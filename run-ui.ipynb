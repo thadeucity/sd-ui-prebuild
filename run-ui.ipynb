{
 "cells": [
  {
   "cell_type": "code",
   "execution_count": null,
   "metadata": {},
   "outputs": [],
   "source": [
    "%pip install gdown\n",
    "\n",
    "# Download the model\n",
    "# MODEL_NAME = 'model-id'\n",
    "\n",
    "# Cange the model to download here\n",
    "modelToLoad = baseModel\n",
    "\n",
    "#!gdown https://drive.google.com/uc?id=$modelToLoad"
   ]
  },
  {
   "cell_type": "code",
   "execution_count": null,
   "metadata": {},
   "outputs": [],
   "source": [
    "%echo \"---------------------------------\"\n",
    "%echo \"Add extra dependencies\"\n",
    "%cd stable-diffusion-webui\n",
    "\n",
    "%mkdir repositories\n",
    "!git clone https://github.com/CompVis/stable-diffusion.git repositories/stable-diffusion\n",
    "!git clone https://github.com/CompVis/taming-transformers.git repositories/taming-transformers\n",
    "!git clone https://github.com/sczhou/CodeFormer.git repositories/CodeFormer\n",
    "!git clone https://github.com/salesforce/BLIP.git repositories/BLIP\n",
    "\n",
    "!pip install transformers==4.19.2 diffusers invisible-watermark --prefer-binary\n",
    "\n",
    "# install k-diffusion\n",
    "!pip install git+https://github.com/crowsonkb/k-diffusion.git --prefer-binary\n",
    "\n",
    "# (optional) install GFPGAN (face restoration)\n",
    "!pip install git+https://github.com/TencentARC/GFPGAN.git --prefer-binary\n",
    "\n",
    "# (optional) install requirements for CodeFormer (face restoration)\n",
    "!pip install -r repositories/CodeFormer/requirements.txt --prefer-binary\n",
    "\n",
    "# install requirements of web ui\n",
    "!pip install -r requirements.txt  --prefer-binary\n",
    "\n",
    "# update numpy to latest version\n",
    "!pip install -U numpy  --prefer-binary\n"
   ]
  },
  {
   "cell_type": "code",
   "execution_count": null,
   "metadata": {},
   "outputs": [],
   "source": [
    "%cd \"stable-diffusion-webui\"\n",
    "\n",
    "!python3 python launch.py --share"
   ]
  }
 ],
 "metadata": {
  "language_info": {
   "name": "python"
  },
  "orig_nbformat": 4
 },
 "nbformat": 4,
 "nbformat_minor": 2
}
