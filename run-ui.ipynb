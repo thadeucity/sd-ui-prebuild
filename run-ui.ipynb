{
 "cells": [
  {
   "cell_type": "code",
   "execution_count": null,
   "metadata": {},
   "outputs": [],
   "source": [
    "%pip install gdown\n",
    "\n",
    "# Put your models here\n",
    "# <<MODEL_NAME>> = '<<MODEL_ID>>'\n",
    "\n",
    "# Cange the model to download here\n",
    "modelToLoad = baseModel\n",
    "\n",
    "!gdown https://drive.google.com/uc?id=$modelToLoad"
   ]
  },
  {
   "cell_type": "code",
   "execution_count": null,
   "metadata": {},
   "outputs": [],
   "source": [
    "cd \"stable-diffusion-webui\"\n",
    "\n",
    "!python3 python launch.py --share"
   ]
  }
 ],
 "metadata": {
  "language_info": {
   "name": "python"
  },
  "orig_nbformat": 4
 },
 "nbformat": 4,
 "nbformat_minor": 2
}
